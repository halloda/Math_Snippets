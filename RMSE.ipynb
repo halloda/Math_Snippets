{
  "nbformat": 4,
  "nbformat_minor": 0,
  "metadata": {
    "colab": {
      "name": " RMSE",
      "provenance": [],
      "authorship_tag": "ABX9TyMJpy8L8ktuTQdhIExPaTQ/",
      "include_colab_link": true
    },
    "kernelspec": {
      "name": "python3",
      "display_name": "Python 3"
    },
    "language_info": {
      "name": "python"
    }
  },
  "cells": [
    {
      "cell_type": "markdown",
      "metadata": {
        "id": "view-in-github",
        "colab_type": "text"
      },
      "source": [
        "<a href=\"https://colab.research.google.com/github/halloda/Math_Snippets/blob/main/RMSE.ipynb\" target=\"_parent\"><img src=\"https://colab.research.google.com/assets/colab-badge.svg\" alt=\"Open In Colab\"/></a>"
      ]
    },
    {
      "cell_type": "markdown",
      "metadata": {
        "id": "uWqlp5tt3okH"
      },
      "source": [
        "Two models were trained using the following data:\n",
        "x = [0, 1, 2, 3, 4]\n",
        "y = [0.1, 0.9, 2.1, 2.9, 4.1]\n",
        "Model 1 predicted y_1 = [0, 1, 2, 3, 4], and model 2 predicted y_2 = [0.1, 0.9, 2.1, 2.9, 4.1].\n",
        "Write a Python function that computes the root mean square error (RMSE) for each model. For the test point (x, y) = (5, 5.1), model 1 predicted y_1 = 5, and model 2 predicted y_2 = 5.2. \n",
        "\n"
      ]
    },
    {
      "cell_type": "code",
      "metadata": {
        "colab": {
          "base_uri": "https://localhost:8080/"
        },
        "id": "raSy8W_A3nA4",
        "outputId": "64fea495-8df6-4e18-8b6e-15a364aa00f4"
      },
      "source": [
        "import numpy as np\n",
        "import array\n",
        "import math\n",
        "\n",
        "\n",
        "def RMSE(y,y_pred):\n",
        "\n",
        "  new_values=[]\n",
        "\n",
        "  for i in range(0,5):\n",
        "    distance=((y_pred[i]-y[i])**2)/5\n",
        "    new_values.append(distance)\n",
        "\n",
        "  new_values=np.array(new_values)\n",
        "  RMSE_result=math.sqrt(new_values.sum())\n",
        "  return RMSE_result\n",
        "\n",
        "\n",
        "y = [0.1, 0.9, 2.1, 2.9, 4.1]\n",
        "y_1 = [0, 1, 2, 3, 4]\n",
        "y_2 = [0.1, 0.9, 2.1, 2.9, 4.1]\n",
        "\n",
        "print(\"y_1:\" , RMSE(y, y_1))\n",
        "print(\"y_2:\" , RMSE(y, y_2))\n",
        "\n",
        "\n",
        "\n",
        "  "
      ],
      "execution_count": null,
      "outputs": [
        {
          "output_type": "stream",
          "text": [
            "y_1: 0.09999999999999996\n",
            "y_2: 0.0\n"
          ],
          "name": "stdout"
        }
      ]
    },
    {
      "cell_type": "markdown",
      "metadata": {
        "id": "_p6drbUp_HPX"
      },
      "source": [
        ""
      ]
    }
  ]
}